{
 "cells": [
  {
   "cell_type": "code",
   "execution_count": 3,
   "metadata": {},
   "outputs": [
    {
     "name": "stdout",
     "output_type": "stream",
     "text": [
      "Requirement already satisfied: q in c:\\users\\carlos\\miniconda3\\envs\\apideep\\lib\\site-packages (2.6)\n",
      "Requirement already satisfied: keras==2.2.3 in c:\\users\\carlos\\miniconda3\\envs\\apideep\\lib\\site-packages (2.2.3)\n",
      "Requirement already satisfied: scipy>=0.14 in c:\\users\\carlos\\miniconda3\\envs\\apideep\\lib\\site-packages (from keras==2.2.3) (1.5.0)\n",
      "Requirement already satisfied: keras-applications>=1.0.6 in c:\\users\\carlos\\miniconda3\\envs\\apideep\\lib\\site-packages (from keras==2.2.3) (1.0.8)\n",
      "Requirement already satisfied: numpy>=1.9.1 in c:\\users\\carlos\\miniconda3\\envs\\apideep\\lib\\site-packages (from keras==2.2.3) (1.19.5)\n",
      "Requirement already satisfied: h5py in c:\\users\\carlos\\miniconda3\\envs\\apideep\\lib\\site-packages (from keras==2.2.3) (3.1.0)\n",
      "Requirement already satisfied: six>=1.9.0 in c:\\users\\carlos\\miniconda3\\envs\\apideep\\lib\\site-packages (from keras==2.2.3) (1.15.0)\n",
      "Requirement already satisfied: pyyaml in c:\\users\\carlos\\miniconda3\\envs\\apideep\\lib\\site-packages (from keras==2.2.3) (5.3.1)\n",
      "Requirement already satisfied: keras-preprocessing>=1.0.5 in c:\\users\\carlos\\miniconda3\\envs\\apideep\\lib\\site-packages (from keras==2.2.3) (1.1.2)\n",
      "Requirement already satisfied: cached-property; python_version < \"3.8\" in c:\\users\\carlos\\miniconda3\\envs\\apideep\\lib\\site-packages (from h5py->keras==2.2.3) (1.5.2)\n",
      "Requirement already satisfied: tensorflow==2.5.2 in c:\\users\\carlos\\miniconda3\\envs\\apideep\\lib\\site-packages (2.5.2)\n",
      "Requirement already satisfied: numpy~=1.19.2 in c:\\users\\carlos\\miniconda3\\envs\\apideep\\lib\\site-packages (from tensorflow==2.5.2) (1.19.5)\n",
      "Requirement already satisfied: opt-einsum~=3.3.0 in c:\\users\\carlos\\miniconda3\\envs\\apideep\\lib\\site-packages (from tensorflow==2.5.2) (3.3.0)\n",
      "Requirement already satisfied: typing-extensions~=3.7.4 in c:\\users\\carlos\\miniconda3\\envs\\apideep\\lib\\site-packages (from tensorflow==2.5.2) (3.7.4.2)\n",
      "Requirement already satisfied: flatbuffers~=1.12.0 in c:\\users\\carlos\\miniconda3\\envs\\apideep\\lib\\site-packages (from tensorflow==2.5.2) (1.12)\n",
      "Requirement already satisfied: absl-py~=0.10 in c:\\users\\carlos\\miniconda3\\envs\\apideep\\lib\\site-packages (from tensorflow==2.5.2) (0.15.0)\n",
      "Requirement already satisfied: wheel~=0.35 in c:\\users\\carlos\\miniconda3\\envs\\apideep\\lib\\site-packages (from tensorflow==2.5.2) (0.37.1)\n",
      "Requirement already satisfied: keras-nightly~=2.5.0.dev in c:\\users\\carlos\\miniconda3\\envs\\apideep\\lib\\site-packages (from tensorflow==2.5.2) (2.5.0.dev2021032900)\n",
      "Requirement already satisfied: google-pasta~=0.2 in c:\\users\\carlos\\miniconda3\\envs\\apideep\\lib\\site-packages (from tensorflow==2.5.2) (0.2.0)\n",
      "Requirement already satisfied: keras-preprocessing~=1.1.2 in c:\\users\\carlos\\miniconda3\\envs\\apideep\\lib\\site-packages (from tensorflow==2.5.2) (1.1.2)\n",
      "Requirement already satisfied: astunparse~=1.6.3 in c:\\users\\carlos\\miniconda3\\envs\\apideep\\lib\\site-packages (from tensorflow==2.5.2) (1.6.3)\n",
      "Requirement already satisfied: tensorflow-estimator<2.6.0,>=2.5.0 in c:\\users\\carlos\\miniconda3\\envs\\apideep\\lib\\site-packages (from tensorflow==2.5.2) (2.5.0)\n",
      "Requirement already satisfied: wrapt~=1.12.1 in c:\\users\\carlos\\miniconda3\\envs\\apideep\\lib\\site-packages (from tensorflow==2.5.2) (1.12.1)\n",
      "Requirement already satisfied: gast==0.4.0 in c:\\users\\carlos\\miniconda3\\envs\\apideep\\lib\\site-packages (from tensorflow==2.5.2) (0.4.0)\n",
      "Requirement already satisfied: six~=1.15.0 in c:\\users\\carlos\\miniconda3\\envs\\apideep\\lib\\site-packages (from tensorflow==2.5.2) (1.15.0)\n",
      "Requirement already satisfied: grpcio~=1.34.0 in c:\\users\\carlos\\miniconda3\\envs\\apideep\\lib\\site-packages (from tensorflow==2.5.2) (1.34.1)\n",
      "Requirement already satisfied: tensorboard~=2.5 in c:\\users\\carlos\\miniconda3\\envs\\apideep\\lib\\site-packages (from tensorflow==2.5.2) (2.6.0)\n",
      "Requirement already satisfied: termcolor~=1.1.0 in c:\\users\\carlos\\miniconda3\\envs\\apideep\\lib\\site-packages (from tensorflow==2.5.2) (1.1.0)\n",
      "Requirement already satisfied: h5py~=3.1.0 in c:\\users\\carlos\\miniconda3\\envs\\apideep\\lib\\site-packages (from tensorflow==2.5.2) (3.1.0)\n",
      "Requirement already satisfied: protobuf>=3.9.2 in c:\\users\\carlos\\miniconda3\\envs\\apideep\\lib\\site-packages (from tensorflow==2.5.2) (3.17.2)\n",
      "Requirement already satisfied: markdown>=2.6.8 in c:\\users\\carlos\\miniconda3\\envs\\apideep\\lib\\site-packages (from tensorboard~=2.5->tensorflow==2.5.2) (3.3.4)\n",
      "Requirement already satisfied: tensorboard-plugin-wit>=1.6.0 in c:\\users\\carlos\\miniconda3\\envs\\apideep\\lib\\site-packages (from tensorboard~=2.5->tensorflow==2.5.2) (1.6.0)\n",
      "Requirement already satisfied: werkzeug>=0.11.15 in c:\\users\\carlos\\miniconda3\\envs\\apideep\\lib\\site-packages (from tensorboard~=2.5->tensorflow==2.5.2) (0.16.1)\n",
      "Requirement already satisfied: setuptools>=41.0.0 in c:\\users\\carlos\\miniconda3\\envs\\apideep\\lib\\site-packages (from tensorboard~=2.5->tensorflow==2.5.2) (49.2.0.post20200714)\n",
      "Requirement already satisfied: requests<3,>=2.21.0 in c:\\users\\carlos\\miniconda3\\envs\\apideep\\lib\\site-packages (from tensorboard~=2.5->tensorflow==2.5.2) (2.24.0)\n",
      "Requirement already satisfied: tensorboard-data-server<0.7.0,>=0.6.0 in c:\\users\\carlos\\miniconda3\\envs\\apideep\\lib\\site-packages (from tensorboard~=2.5->tensorflow==2.5.2) (0.6.0)\n",
      "Requirement already satisfied: google-auth-oauthlib<0.5,>=0.4.1 in c:\\users\\carlos\\miniconda3\\envs\\apideep\\lib\\site-packages (from tensorboard~=2.5->tensorflow==2.5.2) (0.4.1)\n",
      "Requirement already satisfied: google-auth<2,>=1.6.3 in c:\\users\\carlos\\miniconda3\\envs\\apideep\\lib\\site-packages (from tensorboard~=2.5->tensorflow==2.5.2) (1.28.0)\n",
      "Requirement already satisfied: cached-property; python_version < \"3.8\" in c:\\users\\carlos\\miniconda3\\envs\\apideep\\lib\\site-packages (from h5py~=3.1.0->tensorflow==2.5.2) (1.5.2)\n",
      "Requirement already satisfied: importlib-metadata; python_version < \"3.8\" in c:\\users\\carlos\\miniconda3\\envs\\apideep\\lib\\site-packages (from markdown>=2.6.8->tensorboard~=2.5->tensorflow==2.5.2) (1.7.0)\n",
      "Requirement already satisfied: chardet<4,>=3.0.2 in c:\\users\\carlos\\miniconda3\\envs\\apideep\\lib\\site-packages (from requests<3,>=2.21.0->tensorboard~=2.5->tensorflow==2.5.2) (3.0.4)\n",
      "Requirement already satisfied: idna<3,>=2.5 in c:\\users\\carlos\\miniconda3\\envs\\apideep\\lib\\site-packages (from requests<3,>=2.21.0->tensorboard~=2.5->tensorflow==2.5.2) (2.10)\n",
      "Requirement already satisfied: certifi>=2017.4.17 in c:\\users\\carlos\\miniconda3\\envs\\apideep\\lib\\site-packages (from requests<3,>=2.21.0->tensorboard~=2.5->tensorflow==2.5.2) (2021.10.8)\n",
      "Requirement already satisfied: urllib3!=1.25.0,!=1.25.1,<1.26,>=1.21.1 in c:\\users\\carlos\\miniconda3\\envs\\apideep\\lib\\site-packages (from requests<3,>=2.21.0->tensorboard~=2.5->tensorflow==2.5.2) (1.25.9)\n",
      "Requirement already satisfied: requests-oauthlib>=0.7.0 in c:\\users\\carlos\\miniconda3\\envs\\apideep\\lib\\site-packages (from google-auth-oauthlib<0.5,>=0.4.1->tensorboard~=2.5->tensorflow==2.5.2) (1.3.0)\n",
      "Requirement already satisfied: cachetools<5.0,>=2.0.0 in c:\\users\\carlos\\miniconda3\\envs\\apideep\\lib\\site-packages (from google-auth<2,>=1.6.3->tensorboard~=2.5->tensorflow==2.5.2) (4.2.2)\n",
      "Requirement already satisfied: pyasn1-modules>=0.2.1 in c:\\users\\carlos\\miniconda3\\envs\\apideep\\lib\\site-packages (from google-auth<2,>=1.6.3->tensorboard~=2.5->tensorflow==2.5.2) (0.2.8)\n",
      "Requirement already satisfied: rsa<5,>=3.1.4; python_version >= \"3.6\" in c:\\users\\carlos\\miniconda3\\envs\\apideep\\lib\\site-packages (from google-auth<2,>=1.6.3->tensorboard~=2.5->tensorflow==2.5.2) (4.7.2)\n",
      "Requirement already satisfied: zipp>=0.5 in c:\\users\\carlos\\miniconda3\\envs\\apideep\\lib\\site-packages (from importlib-metadata; python_version < \"3.8\"->markdown>=2.6.8->tensorboard~=2.5->tensorflow==2.5.2) (3.1.0)\n",
      "Requirement already satisfied: oauthlib>=3.0.0 in c:\\users\\carlos\\miniconda3\\envs\\apideep\\lib\\site-packages (from requests-oauthlib>=0.7.0->google-auth-oauthlib<0.5,>=0.4.1->tensorboard~=2.5->tensorflow==2.5.2) (3.1.0)\n",
      "Requirement already satisfied: pyasn1<0.5.0,>=0.4.6 in c:\\users\\carlos\\miniconda3\\envs\\apideep\\lib\\site-packages (from pyasn1-modules>=0.2.1->google-auth<2,>=1.6.3->tensorboard~=2.5->tensorflow==2.5.2) (0.4.8)\n",
      "2.5.2\n"
     ]
    }
   ],
   "source": [
    "!pip install q keras==2.2.3\n",
    "!pip install tensorflow==2.5.2\n",
    "import tensorflow as tf\n",
    "print(tf.__version__)"
   ]
  },
  {
   "cell_type": "code",
   "execution_count": 3,
   "metadata": {},
   "outputs": [
    {
     "name": "stdout",
     "output_type": "stream",
     "text": [
      "C:\\Users\\Carlos\\Desktop\n"
     ]
    }
   ],
   "source": [
    "cd Desktop\n"
   ]
  },
  {
   "cell_type": "code",
   "execution_count": 4,
   "metadata": {},
   "outputs": [
    {
     "name": "stdout",
     "output_type": "stream",
     "text": [
      "C:\\Users\\Carlos\\Desktop\\Stress_Detector-master\n"
     ]
    }
   ],
   "source": [
    "cd Stress_Detector-master"
   ]
  },
  {
   "cell_type": "code",
   "execution_count": 5,
   "metadata": {},
   "outputs": [
    {
     "name": "stdout",
     "output_type": "stream",
     "text": [
      "C:\\Users\\Carlos\\Desktop\\Stress_Detector-master\\code\n"
     ]
    }
   ],
   "source": [
    "cd code"
   ]
  },
  {
   "cell_type": "code",
   "execution_count": 30,
   "metadata": {},
   "outputs": [
    {
     "name": "stdout",
     "output_type": "stream",
     "text": [
      "C:\\Users\\Carlos\n"
     ]
    }
   ],
   "source": [
    "cd\n"
   ]
  },
  {
   "cell_type": "code",
   "execution_count": null,
   "metadata": {},
   "outputs": [],
   "source": [
    "!pip3 install -r requirements.txt"
   ]
  },
  {
   "cell_type": "code",
   "execution_count": 2,
   "metadata": {},
   "outputs": [
    {
     "name": "stdout",
     "output_type": "stream",
     "text": [
      "C:\\Users\\Carlos\n"
     ]
    }
   ],
   "source": [
    "cd"
   ]
  },
  {
   "cell_type": "code",
   "execution_count": null,
   "metadata": {},
   "outputs": [],
   "source": [
    "!python app.py"
   ]
  }
 ],
 "metadata": {
  "kernelspec": {
   "display_name": "Python 3",
   "language": "python",
   "name": "python3"
  },
  "language_info": {
   "codemirror_mode": {
    "name": "ipython",
    "version": 3
   },
   "file_extension": ".py",
   "mimetype": "text/x-python",
   "name": "python",
   "nbconvert_exporter": "python",
   "pygments_lexer": "ipython3",
   "version": "3.7.7"
  }
 },
 "nbformat": 4,
 "nbformat_minor": 4
}
